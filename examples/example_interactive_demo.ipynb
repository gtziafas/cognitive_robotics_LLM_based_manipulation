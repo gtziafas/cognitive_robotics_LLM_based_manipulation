{
 "cells": [
  {
   "cell_type": "markdown",
   "id": "803ac4b6-bc87-4f3e-920c-6259f52a5b67",
   "metadata": {},
   "source": [
    "# Interactive UI demo"
   ]
  },
  {
   "cell_type": "code",
   "execution_count": null,
   "id": "2b0d799d-2296-4810-af0d-11a386f38689",
   "metadata": {},
   "outputs": [],
   "source": []
  }
 ],
 "metadata": {
  "kernelspec": {
   "display_name": "studentLLM",
   "language": "python",
   "name": "studentllm"
  },
  "language_info": {
   "codemirror_mode": {
    "name": "ipython",
    "version": 3
   },
   "file_extension": ".py",
   "mimetype": "text/x-python",
   "name": "python",
   "nbconvert_exporter": "python",
   "pygments_lexer": "ipython3",
   "version": "3.8.7"
  }
 },
 "nbformat": 4,
 "nbformat_minor": 5
}
