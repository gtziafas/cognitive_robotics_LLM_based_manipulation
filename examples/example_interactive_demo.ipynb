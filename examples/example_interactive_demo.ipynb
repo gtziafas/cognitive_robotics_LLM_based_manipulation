{
 "cells": [
  {
   "cell_type": "markdown",
   "id": "803ac4b6-bc87-4f3e-920c-6259f52a5b67",
   "metadata": {},
   "source": [
    "# Interactive UI demo"
   ]
  },
  {
   "cell_type": "code",
   "execution_count": null,
   "id": "2b0d799d-2296-4810-af0d-11a386f38689",
   "metadata": {},
   "outputs": [],
   "source": [
    "cd .."
   ]
  },
  {
   "cell_type": "code",
   "execution_count": null,
   "id": "32693c44-50bb-4d16-847c-ecd13791ed2e",
   "metadata": {},
   "outputs": [],
   "source": [
    "import importlib\n",
    "import ui\n",
    "importlib.reload(ui)\n",
    "\n",
    "\n",
    "import pybullet as p\n",
    "from ui import RobotEnvUI\n",
    "from llm_utils import prompt_pick_and_place_detection"
   ]
  },
  {
   "cell_type": "code",
   "execution_count": null,
   "id": "6b056d86-fa99-4433-add9-e95dec2e5328",
   "metadata": {},
   "outputs": [],
   "source": [
    "import random\n",
    "from pygments import highlight\n",
    "from pygments.lexers import PythonLexer\n",
    "from pygments.formatters import HtmlFormatter\n",
    "from IPython.display import display, HTML\n",
    "\n",
    "seed = 22\n",
    "random.seed(seed)\n",
    "\n",
    "demo = RobotEnvUI(5, seed=seed, visualise_clip=False)"
   ]
  },
  {
   "cell_type": "markdown",
   "id": "1ffb6cb1-0b67-4e40-8f87-bebe47d09d61",
   "metadata": {},
   "source": [
    "Types of instructions:\n",
    "* <ins>put `[obj`] in `[region]`</ins>, e.g: *\"put the banana in the top right corner\"*\n",
    "* <ins>put `[obj]` in the tray / clean `[obj]`</ins>, e.g: *\"clean the scissors\"*\n",
    "* <ins>put `[obj]` on the `[rel]` of `[obj]`</ins>, e.g.: *\"put the hammer left of the tomato soup can\"*\n",
    "\n",
    "1. <ins>Available regions</ins>: *top/bottom/right/left side, top/bottom left/right corner, middle*\n",
    "2. <ins>Available relations</ins>: *left/right,behind/front, on*\n",
    "3. <ins>Available objects</ins>: open-vocabulary object descriptions (within CLIP capabilities)\n",
    "\n",
    "Use `visualize_clip=True` to view the CLIP recognition predictions.\n",
    "\n",
    "<ins>Chatbot UI</ins> The UI uses the history of instructions as extra context to the LLM. That makes our agent respond to instructions like: *now put the other fruit ...\", \"undo the previous step\", \"actually, I want it somewhere else\", where the LLM picks up the object/location of interest from the chat history. \n",
    "\n",
    "Control the UI:\n",
    "* `:reset` will reset the robot and the scene to initial state\n",
    "* `:new` will generate a new scene (have to pass `seed=None` when starting the demo for this)\n",
    "* `:clear` Clear the chat history\n",
    "* `:exit`Exit the demo\n",
    "* `your language instruction here`: choose one instruction for the robot to complete\n",
    "\n",
    "Known issues:\n",
    "* the robot thinks it has failed the placing part sometimes and attempt to redo it while it has succeeded\n",
    "* CLIP mis-classifications\n",
    "* The longer the interaction, the more chat history in the prompt and the LLM might start ignoring the prompt examples.\n",
    "* "
   ]
  },
  {
   "cell_type": "code",
   "execution_count": null,
   "id": "79e47d84-0555-4fc9-a680-29bc14485adf",
   "metadata": {},
   "outputs": [],
   "source": [
    "# example prompts\n",
    "prompts_in_order = [\n",
    "    \"put the pear on the tray\",\n",
    "    \"now put the other fruit on the right side of the table\",\n",
    "    \"actually, I want it on the top left corner\",\n",
    "    \"thanks! Now put the hammer in front of the scissors\",\n",
    "    \"actually, clean it for me\"\n",
    "    \"great! Now if you can put the electric tool in the middle\",\n",
    "    \"no, in the bottom side\",\n",
    "    \"wait, undo the last step\",\n",
    "    \"actually, clean it up for me\",\n",
    "    \":exit\"\n",
    "]\n",
    "\n",
    "\n",
    "display(demo.run())"
   ]
  },
  {
   "cell_type": "code",
   "execution_count": null,
   "id": "60091878-9a06-44b4-840d-a30cb6e8e892",
   "metadata": {},
   "outputs": [],
   "source": []
  }
 ],
 "metadata": {
  "kernelspec": {
   "display_name": "studentLLM",
   "language": "python",
   "name": "studentllm"
  },
  "language_info": {
   "codemirror_mode": {
    "name": "ipython",
    "version": 3
   },
   "file_extension": ".py",
   "mimetype": "text/x-python",
   "name": "python",
   "nbconvert_exporter": "python",
   "pygments_lexer": "ipython3",
   "version": "3.8.7"
  }
 },
 "nbformat": 4,
 "nbformat_minor": 5
}
